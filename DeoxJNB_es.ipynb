{
 "cells": [
  {
   "cell_type": "code",
   "execution_count": 6,
   "id": "e4ac22b8-21bc-4b86-a1dc-7c3e3ab15855",
   "metadata": {
    "tags": []
   },
   "outputs": [],
   "source": [
    "import numpy as np\n",
    "import pandas as pd\n",
    "import matplotlib.pyplot as plt\n",
    "from scipy.integrate import solve_ivp"
   ]
  },
  {
   "cell_type": "markdown",
   "id": "8bc9aa62-abef-427d-9ffd-42c5674653c7",
   "metadata": {},
   "source": [
    "# Fundamentos de desoxidación de aceros\n",
    "\n",
    "**Dr. Edgar Ivan Castro Cedeño**\n",
    "\n",
    "[edgar.castro@cinvestav.mx](mailto:edgar.castro@cinvestav.mx)"
   ]
  },
  {
   "cell_type": "markdown",
   "id": "039d944a-86ad-4d62-9fce-e782877930c5",
   "metadata": {
    "jp-MarkdownHeadingCollapsed": true,
    "tags": []
   },
   "source": [
    "## Contexto metalúrgico"
   ]
  },
  {
   "cell_type": "markdown",
   "id": "862d04be-d2d9-4c9e-97b9-ba37f923b9ad",
   "metadata": {},
   "source": [
    "Al terminar el proceso de refinación primaria del acero (BOF/EAF), se tiene un acero que contiene grandes cantidades de oxígeno disuelto en el baño. El orden de magnitud es:\n",
    "\n",
    "$$a_O > 300 \\, ppm$$\n",
    "\n",
    "Una de las étapas en la refinación secundaria del acero es la desoxidación del baño, que se puede realizar mediante la adición de un agente desoxidante o mediante un tratamiento de vacío.\n",
    "\n",
    "Este documento se enfoca en presentar conceptos básicos de desoxidación mediante la adición de agentes desoxidantes, y la aplicación de los mismos en el proceso de refinación secundaria de aceros."
   ]
  },
  {
   "cell_type": "markdown",
   "id": "5edf17d7-7750-4873-9e12-93dca9e7165a",
   "metadata": {
    "jp-MarkdownHeadingCollapsed": true,
    "tags": []
   },
   "source": [
    "## Reacción general de desoxidación"
   ]
  },
  {
   "cell_type": "markdown",
   "id": "eaaba6d3-4c7d-46d9-9b9d-cd33d51bebb1",
   "metadata": {},
   "source": [
    "De forma general, la reacción de desoxidación de un acero se puede expresar como:\n",
    "\n",
    "$$\\left(M_xO_y\\right) = x\\left[M\\right] + y\\left[O_x\\right] $$\n",
    "\n",
    "$$K = \\frac{a_M^x a_O^y}{a_{M_xO_y}} $$\n",
    "\n",
    "where $a_{M_xO_y}$, $a_M^x$, y $a_O^y$, son las actividades termodinámicas de las especies químicas de interés."
   ]
  },
  {
   "cell_type": "markdown",
   "id": "8726f046-41ad-492b-8151-da76cdb5a56c",
   "metadata": {
    "tags": []
   },
   "source": [
    "### Estados de referencia"
   ]
  },
  {
   "cell_type": "markdown",
   "id": "2d396891-962c-4b0a-a8c4-fbbfda93ac98",
   "metadata": {},
   "source": [
    "Para los **productos de desoxidación** se utiliza la substancia pura como estado de referencia:\n",
    "\n",
    "$$a_{M_xO_y} = \\gamma_{M_xO_y} {X_{M_xO_y}} $$\n",
    "    \n",
    "| Símbolo | Descripción |\n",
    "| --- | --- |\n",
    "|$a_{M_xO_y}$ | Actividad del producto de desoxidación $M_xO_y$  |   \n",
    "|$\\gamma_{M_xO_y}$ | Coeficiente de actividad Raoultiano  |\n",
    "|$X_{M_xO_y}$ | Contenido de $M_xO_y$ en el producto de desoxidación, en fracción molar. |\n",
    "\n",
    "En este documento no se habla de métodos para estimar la actividad de los productos de desoxidación en sistemas complejos."
   ]
  },
  {
   "cell_type": "markdown",
   "id": "f9729a70-08b3-490c-834d-4beff517a458",
   "metadata": {},
   "source": [
    "Para los **solutos en el baño de metal fundido** se utiliza la solución Henriana con dilución al 1% en masa como estado de referencia:\n",
    "\n",
    "$$h_M = f_M {\\left[\\%M\\right]} $$\n",
    "\n",
    "| Símbolo | Descripción |\n",
    "| --- | --- |\n",
    "|$h_M$ | actividad del soluto $M$ |\n",
    "|$f_M$ | Coeficiente de actividad henriana |\n",
    "|$\\left[ \\%M \\right]$ | Contenido del soluto $M$ en el baño, in porcentaje másico.   |"
   ]
  },
  {
   "cell_type": "markdown",
   "id": "5040304a-7ace-4587-b8b0-62fa6b885528",
   "metadata": {},
   "source": [
    "### Formalismo de Wagner de coeficientes de interacción"
   ]
  },
  {
   "cell_type": "markdown",
   "id": "aec02d17-c164-4e84-89be-36e2bc83f808",
   "metadata": {},
   "source": [
    "Para considerar la dependencia entre la composición del baño y los coeficientes de actividad de los solutos, se va a utilizar el formalismo de Wagner.\n",
    "\n",
    "$$\\log f_i = \\sum\\limits_{j=2}^{n}{e_i^j \\left[\\%j\\right]} \n",
    "        + \\sum\\limits_{j=2}^n{r_i^j \\left[ \\%j\\right]^2} \n",
    "        + \\sum\\limits_{j=2}^{n-1} \\sum\\limits_{k>j}^{n} {r_i^{j,k} \\left[\\%j\\right]\\left[\\%k\\right]}$$\n",
    "        \n",
    "        \n",
    "| Símbolo | Descripción |\n",
    "| --- | --- |\n",
    "|$e_i^j$     | Coeficiente de interacción de primer orden para el soluto $i$ en presencia del soluto $j$ |\n",
    "|$r_i^j$     | Coeficiente de interacción de segundo orden para el soluto $i$ en presencia del soluto $j$ |\n",
    "|$r_i^{j,k}$ | Coeficiente de interacción de segundo orden para el soluto $i$ en presencia de los soluto $j$, $k$ |\n",
    "\n",
    "Aunque este formalismo fue definido originalmente para soluciones en dilución infinita, ha probado su utilidad práctica para el tratamiento termodinámico de soluciones con una concentración baja de solutos, como el hierro y el acero. Los parámetros de interacción de orden superior se utilizan para tratar casos como los aceros aleados, en los que la concentración de solutos es más alta."
   ]
  },
  {
   "cell_type": "markdown",
   "id": "925dabc1-cef6-4a78-a3f9-aeb38b450647",
   "metadata": {
    "tags": []
   },
   "source": [
    "## Desoxidación con aluminio"
   ]
  },
  {
   "cell_type": "markdown",
   "id": "84b32f1d-18a4-40e8-bdb6-123a819e850b",
   "metadata": {},
   "source": [
    "### Reacción de desoxidación"
   ]
  },
  {
   "cell_type": "markdown",
   "id": "a5056b3a-a146-4b6c-9644-57e80c001dec",
   "metadata": {},
   "source": [
    "La reacción de deoxidación con alumino está dada por:\n",
    "\n",
    "$$\\left( Al_{2}O_{3}\\right) = 2 \\left[Al\\right] + 3 \\left[O\\right] $$\n",
    "\n",
    "$$K_{Al} =  \\frac{h_{Al}^2  h_{O}^3}{a_{Al_2O_3}} $$\n",
    "\n"
   ]
  },
  {
   "cell_type": "markdown",
   "id": "9477915a-c0c8-4295-9167-6c5a7f640012",
   "metadata": {},
   "source": [
    "![Alumina inclusion](images/alumina1.png \"Inclusión de alumina\")"
   ]
  },
  {
   "cell_type": "markdown",
   "id": "2bf6ef7f-2276-4a94-8290-24d68a1935d7",
   "metadata": {},
   "source": [
    "Aplicando leyes de logaritmos, la constante se puede escribir como:\n",
    "\n",
    "$$\\log K = 2 \\log f_{Al} + 2 \\log \\left[\\%Al\\right] + 3 \\log f_{O} + 3 \\log \\left[\\%O \\right] - \\log a_{Al_2O_3} $$\n",
    "\n",
    "\n",
    "Donde:\n",
    "\n",
    "$\\log f_{Al} = e_{Al}^{Al} \\left[\\%Al\\right] + e_{Al}^{O} \\left[\\%O\\right] + r_{Al}^{Al,Al} \\left[\\%Al\\right]^2 + r_{Al}^{O,O} \\left[\\%O\\right]^2 + r_{Al}^{Al,O} \\left[\\%Al\\right]\\left[\\%O\\right] $\n",
    "\n",
    "$\\log f_{O} = e_{O}^{Al} \\left[\\%Al\\right] + e_{O}^{O} \\left[\\%O\\right] + r_{O}^{Al,Al} \\left[\\%Al\\right]^2 + r_{O}^{O,O} \\left[\\%O\\right]^2 + r_{O}^{Al,O} \\left[\\%Al\\right]\\left[\\%O\\right] $\n"
   ]
  },
  {
   "cell_type": "markdown",
   "id": "a688b823-931b-426f-8f93-9fefd198b5c7",
   "metadata": {
    "jp-MarkdownHeadingCollapsed": true,
    "tags": []
   },
   "source": [
    "### Valor numérico de la constante de equilibrio"
   ]
  },
  {
   "cell_type": "markdown",
   "id": "3bdaa29b-fd17-4b46-9260-650ea5340e07",
   "metadata": {},
   "source": [
    "Donde:\n",
    "\n",
    "$\\log K_{Al} = -\\frac{45300}{T} + 11.62 $"
   ]
  },
  {
   "cell_type": "code",
   "execution_count": 4,
   "id": "d14b4244-6103-4c8f-ac31-9d4f26b34709",
   "metadata": {
    "tags": []
   },
   "outputs": [],
   "source": [
    "def logKAl(T: float) -> float:\n",
    "    \"\"\"\n",
    "    logaritmo de la Constante de equilibrio \n",
    "    \"\"\"\n",
    "    return -45300 / T + 11.62"
   ]
  },
  {
   "cell_type": "markdown",
   "id": "81c9e0dc-3514-47de-a65b-de0f62dc75e5",
   "metadata": {
    "jp-MarkdownHeadingCollapsed": true,
    "tags": []
   },
   "source": [
    "### Valor numérico de los coeficientes de interacción"
   ]
  },
  {
   "cell_type": "markdown",
   "id": "a726d899-243b-468f-a582-e273adc7c46d",
   "metadata": {},
   "source": [
    "#### Coeficientes de primer orden\n",
    "\n",
    "\n",
    "$$\\begin{bmatrix}e_{Al}^{Al} & e_{Al}^{O} \\\\ e_{O}^{Al} & e_{O}^{O}\\end{bmatrix} = \\begin{bmatrix}\\frac{80.5}{T} & 3.21 - \\frac{9720}{T} \\\\ 1.90 - \\frac{5750}{T} & 0.76 - \\frac{1750}{T}\\end{bmatrix}$$"
   ]
  },
  {
   "cell_type": "code",
   "execution_count": 14,
   "id": "6fcd8063-54e7-4001-b2e9-0a3e2f929f51",
   "metadata": {
    "tags": []
   },
   "outputs": [],
   "source": [
    "def e_Al_Al(T: float) -> float:\n",
    "    return 80.5 / T\n",
    "\n",
    "def e_Al_O(T: float) -> float:\n",
    "    return 3.21 - 9720 / T\n",
    "\n",
    "def e_O_Al(T: float) -> float:\n",
    "    return 1.90 - 5750 / T\n",
    "\n",
    "def e_O_O(T: float) -> float:\n",
    "    return 0.76 - 1750/T"
   ]
  },
  {
   "cell_type": "markdown",
   "id": "c292e29c-1697-4aa9-956c-c19c67a6b354",
   "metadata": {},
   "source": [
    "#### Coeficientes de segundo orden\n",
    "\n",
    "\n",
    "$$\\begin{bmatrix}r_{Al}^{Al, Al} & r_{Al}^{O,O} \\\\ r_{O}^{Al, Al} & r_{O}^{O,O}\\end{bmatrix} = \\begin{bmatrix}0 &  -107 - \\frac{2.75\\times10^{5}}{T} \\\\ 0.0033 - \\frac{25.0}{T} & 0\\end{bmatrix}$$\n",
    "\n",
    "$$\\begin{bmatrix} r_{Al}^{Al, O} \\\\ r_{O}^{Al, O}\\end{bmatrix} = \\begin{bmatrix} -0.021 - \\frac{13.78}{T} \\\\ 127.3 + \\frac{3.273\\times10^{5}}{T} \\end{bmatrix}$$"
   ]
  },
  {
   "cell_type": "code",
   "execution_count": 13,
   "id": "2a637f71-82fd-4906-86d3-bdf28478cab3",
   "metadata": {
    "tags": []
   },
   "outputs": [],
   "source": [
    "def r_Al_Al(T: float) -> float:\n",
    "    return 0\n",
    "\n",
    "def r_Al_O(T: float) -> float:\n",
    "    return -107 - 2.75e5 / T\n",
    "\n",
    "def r_O_Al(T: float) -> float:\n",
    "    return 0.0033 - 25 / T\n",
    "\n",
    "def r_O_O(T: float) -> float:\n",
    "    return 0\n",
    "\n",
    "def r_Al_AlO(T: float) -> float:\n",
    "    return -0.021 -13.78 / T\n",
    "\n",
    "def r_O_AlO(T: float) -> float:\n",
    "    return 127.3 + 3.273e5 / T"
   ]
  },
  {
   "cell_type": "markdown",
   "id": "f65ca70d-ca70-49a6-a6fc-48086f480888",
   "metadata": {},
   "source": [
    "## Construcción de curvas de equilibrio para la desoxidación con aluminio"
   ]
  },
  {
   "cell_type": "code",
   "execution_count": null,
   "id": "5d70d2c7-90fd-4faa-a80f-803a7986beb5",
   "metadata": {},
   "outputs": [],
   "source": []
  }
 ],
 "metadata": {
  "kernelspec": {
   "display_name": "Python 3 (ipykernel)",
   "language": "python",
   "name": "python3"
  },
  "language_info": {
   "codemirror_mode": {
    "name": "ipython",
    "version": 3
   },
   "file_extension": ".py",
   "mimetype": "text/x-python",
   "name": "python",
   "nbconvert_exporter": "python",
   "pygments_lexer": "ipython3",
   "version": "3.10.12"
  }
 },
 "nbformat": 4,
 "nbformat_minor": 5
}
