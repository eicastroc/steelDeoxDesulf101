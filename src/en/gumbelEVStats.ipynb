{
 "cells": [
  {
   "cell_type": "code",
   "execution_count": 1,
   "id": "805b7d95-12ab-499b-bf43-6282544176f3",
   "metadata": {},
   "outputs": [],
   "source": [
    "import numpy as np\n",
    "import pandas as pd\n",
    "import matplotlib.pyplot as plt\n",
    "from scipy.stats import gumbel_r"
   ]
  },
  {
   "cell_type": "markdown",
   "id": "64aa2198-1f09-4522-97da-ff2c1a7d94cb",
   "metadata": {},
   "source": [
    "# Extreme value "
   ]
  },
  {
   "cell_type": "code",
   "execution_count": 2,
   "id": "cdd5957b-8347-42bb-a0cc-ea873ee019c9",
   "metadata": {},
   "outputs": [],
   "source": [
    "def fitEV(data):\n",
    "    evDist = gumbel_r.fit(data)\n",
    "    gamma = evDist[0]\n",
    "    delta = evDist[1]\n",
    "    print('Gumbel distribution params.')\n",
    "    print('gamma: {:.4f}'.format(gamma))\n",
    "    print('delta: {:.4f}'.format(delta))\n",
    "    print('*ML est.')\n",
    "    return gamma, delta"
   ]
  },
  {
   "cell_type": "code",
   "execution_count": 3,
   "id": "341c5466-af7e-4a6c-89cd-8f05c3f431d8",
   "metadata": {},
   "outputs": [],
   "source": [
    "def eCDF(data):\n",
    "    ecdf = (data.index.to_numpy()+1) / (len(data)+1)\n",
    "    return ecdf"
   ]
  },
  {
   "cell_type": "code",
   "execution_count": 29,
   "id": "72ef8881-dd4f-4ad7-a8be-88709d47ab2c",
   "metadata": {},
   "outputs": [],
   "source": [
    "def gumbelPlot(data, gamma=None, delta=None, ax=None):\n",
    "\n",
    "    if ax==None:\n",
    "        fig = plt.figure()\n",
    "        ax = fig.add_subplot(111)\n",
    "\n",
    "    # empirical cdf\n",
    "    dataSorted = data.sort_values()\n",
    "    ecdf = eCDF(dataSorted)\n",
    "\n",
    "    # reduced variable for Gumbel plot\n",
    "    redVar = -1.0 * np.log(-np.log(ecdf))\n",
    "\n",
    "    # EV CDF\n",
    "    if ((gamma==None) or (delta==None)):\n",
    "        gamma, delta = fitEV(data)\n",
    "\n",
    "    # x-values from redVar (using EV ML parameter estimation)\n",
    "    xML = delta*redVar + gamma\n",
    "    \n",
    "    ax.plot(dataSorted, redVar, ls='', marker='o')\n",
    "    ax.plot(xML, redVar)\n",
    "\n",
    "    ax.set_ylabel('Reduced variable')\n",
    "    ax.set_xlabel('X (size, length, etc.)')\n",
    "    ax.grid(ls='--', color='lightgray')\n",
    "\n",
    "    ax.annotate(\"Gumbel params.\", fontweight='bold',\n",
    "                xy=(0.15, 0.85), xycoords='subfigure fraction')\n",
    "    ax.annotate(r\"$\\gamma =${:.4f}\".format(gamma),\n",
    "                xy=(0.15, 0.80), xycoords='subfigure fraction')\n",
    "    ax.annotate(r\"$\\delta =${:.4f}\".format(delta),\n",
    "                xy=(0.15, 0.75), xycoords='subfigure fraction')\n",
    "    "
   ]
  },
  {
   "cell_type": "markdown",
   "id": "4799691a-9210-4026-bf9a-8ab976ae7cff",
   "metadata": {},
   "source": [
    "# Application"
   ]
  },
  {
   "cell_type": "code",
   "execution_count": 21,
   "id": "5242e0e5-24e7-42bf-a32c-28c7321f9618",
   "metadata": {},
   "outputs": [],
   "source": [
    "specNum = [5, 3, 1, 6, 3, 2, 2, 6,\n",
    "           1, 2, 4, 2, 6, 4, 4, 4, \n",
    "           5, 6, 5, 3, 1, 1, 5, 3]"
   ]
  },
  {
   "cell_type": "code",
   "execution_count": 22,
   "id": "7738a9a0-e679-42a6-800a-3ae60b6a3f42",
   "metadata": {},
   "outputs": [],
   "source": [
    "specTag = ['C', 'A', 'B', 'A', 'B', 'A', 'B', 'D', \n",
    "           'A', 'C', 'B', 'D', 'B', 'D', 'A', 'C',\n",
    "           'A', 'C', 'B', 'C', 'C', 'D', 'D', 'D']"
   ]
  },
  {
   "cell_type": "code",
   "execution_count": 23,
   "id": "ca3a5cc0-156e-49a1-a8e5-7d35465971d3",
   "metadata": {},
   "outputs": [],
   "source": [
    "length = [22.18, 29.03, 30.73, 33.98, 35.00, 37.24, 37.43, 37.43,\n",
    "          40.29, 44.79, 44.82, 46.53, 48.55, 49.15, 52.46, 59.83,\n",
    "          62.21, 64.32, 66.13, 70.87, 73.48, 78.91, 82.39, 94.28\n",
    "         ]"
   ]
  },
  {
   "cell_type": "code",
   "execution_count": 24,
   "id": "92a4dc2c-717b-4b83-b85d-a14a70cf6f7f",
   "metadata": {},
   "outputs": [],
   "source": [
    "df = pd.DataFrame(list(zip(specNum, specTag, length)),\n",
    "                     columns=['numField', 'tagField', 'incData'])\n",
    "df.sort_values(by='incData', ascending=True, inplace=True) # necessary"
   ]
  },
  {
   "cell_type": "code",
   "execution_count": 25,
   "id": "78a62364-ae85-42e5-86f5-fcb62ab93b92",
   "metadata": {},
   "outputs": [
    {
     "data": {
      "text/html": [
       "<div>\n",
       "<style scoped>\n",
       "    .dataframe tbody tr th:only-of-type {\n",
       "        vertical-align: middle;\n",
       "    }\n",
       "\n",
       "    .dataframe tbody tr th {\n",
       "        vertical-align: top;\n",
       "    }\n",
       "\n",
       "    .dataframe thead th {\n",
       "        text-align: right;\n",
       "    }\n",
       "</style>\n",
       "<table border=\"1\" class=\"dataframe\">\n",
       "  <thead>\n",
       "    <tr style=\"text-align: right;\">\n",
       "      <th></th>\n",
       "      <th>numField</th>\n",
       "      <th>tagField</th>\n",
       "      <th>incData</th>\n",
       "    </tr>\n",
       "  </thead>\n",
       "  <tbody>\n",
       "    <tr>\n",
       "      <th>0</th>\n",
       "      <td>5</td>\n",
       "      <td>C</td>\n",
       "      <td>22.18</td>\n",
       "    </tr>\n",
       "    <tr>\n",
       "      <th>1</th>\n",
       "      <td>3</td>\n",
       "      <td>A</td>\n",
       "      <td>29.03</td>\n",
       "    </tr>\n",
       "    <tr>\n",
       "      <th>2</th>\n",
       "      <td>1</td>\n",
       "      <td>B</td>\n",
       "      <td>30.73</td>\n",
       "    </tr>\n",
       "    <tr>\n",
       "      <th>3</th>\n",
       "      <td>6</td>\n",
       "      <td>A</td>\n",
       "      <td>33.98</td>\n",
       "    </tr>\n",
       "    <tr>\n",
       "      <th>4</th>\n",
       "      <td>3</td>\n",
       "      <td>B</td>\n",
       "      <td>35.00</td>\n",
       "    </tr>\n",
       "  </tbody>\n",
       "</table>\n",
       "</div>"
      ],
      "text/plain": [
       "   numField tagField  incData\n",
       "0         5        C    22.18\n",
       "1         3        A    29.03\n",
       "2         1        B    30.73\n",
       "3         6        A    33.98\n",
       "4         3        B    35.00"
      ]
     },
     "execution_count": 25,
     "metadata": {},
     "output_type": "execute_result"
    }
   ],
   "source": [
    "df.head()"
   ]
  },
  {
   "cell_type": "code",
   "execution_count": 26,
   "id": "683fc74f-8622-4593-a358-8b530b000d16",
   "metadata": {},
   "outputs": [
    {
     "name": "stdout",
     "output_type": "stream",
     "text": [
      "Gumbel distribution params.\n",
      "gamma: 43.0562\n",
      "delta: 14.9813\n",
      "*ML est.\n"
     ]
    }
   ],
   "source": [
    "gamma, delta = fitEV(df.incData)"
   ]
  },
  {
   "cell_type": "code",
   "execution_count": 30,
   "id": "798d837f-371d-4574-86ba-97281e545b14",
   "metadata": {},
   "outputs": [
    {
     "name": "stdout",
     "output_type": "stream",
     "text": [
      "Gumbel distribution params.\n",
      "gamma: 43.0562\n",
      "delta: 14.9813\n",
      "*ML est.\n"
     ]
    },
    {
     "data": {
      "image/png": "[encoded data removed]",
      "text/plain": [
       "<Figure size 640x480 with 1 Axes>"
      ]
     },
     "metadata": {},
     "output_type": "display_data"
    }
   ],
   "source": [
    "gumbelPlot(df.incData)"
   ]
  }
 ],
 "metadata": {
  "kernelspec": {
   "display_name": "Python 3 (ipykernel)",
   "language": "python",
   "name": "python3"
  },
  "language_info": {
   "codemirror_mode": {
    "name": "ipython",
    "version": 3
   },
   "file_extension": ".py",
   "mimetype": "text/x-python",
   "name": "python",
   "nbconvert_exporter": "python",
   "pygments_lexer": "ipython3",
   "version": "3.9.2"
  }
 },
 "nbformat": 4,
 "nbformat_minor": 5
}
